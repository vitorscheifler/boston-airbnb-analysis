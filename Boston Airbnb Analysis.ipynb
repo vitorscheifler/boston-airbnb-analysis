{
 "cells": [
  {
   "cell_type": "markdown",
   "id": "b230d14f",
   "metadata": {},
   "source": [
    "# Airbnb Boston Analysis"
   ]
  },
  {
   "cell_type": "code",
   "execution_count": null,
   "id": "fb5b6cf3",
   "metadata": {},
   "outputs": [],
   "source": [
    "# Colocar um texto falando do Airbnb e, depois, apresentar os problemas como o CRISP-DM começando com o business understanding"
   ]
  },
  {
   "cell_type": "code",
   "execution_count": 2,
   "id": "fc367c89",
   "metadata": {},
   "outputs": [],
   "source": [
    "# Data understanding\n",
    "# Vai ser o que está abaixo "
   ]
  },
  {
   "cell_type": "markdown",
   "id": "8fb05714",
   "metadata": {},
   "source": [
    "## Importing libraries"
   ]
  },
  {
   "cell_type": "code",
   "execution_count": 1,
   "id": "f853395e",
   "metadata": {},
   "outputs": [],
   "source": [
    "import pandas as pd\n",
    "import numpy as np\n",
    "import matplotlib.pyplot as plt\n",
    "import seaborn as sns\n",
    "%matplotlib inline"
   ]
  },
  {
   "cell_type": "code",
   "execution_count": null,
   "id": "332cbf2f",
   "metadata": {},
   "outputs": [],
   "source": []
  }
 ],
 "metadata": {
  "kernelspec": {
   "display_name": "Python 3",
   "language": "python",
   "name": "python3"
  },
  "language_info": {
   "codemirror_mode": {
    "name": "ipython",
    "version": 3
   },
   "file_extension": ".py",
   "mimetype": "text/x-python",
   "name": "python",
   "nbconvert_exporter": "python",
   "pygments_lexer": "ipython3",
   "version": "3.8.8"
  }
 },
 "nbformat": 4,
 "nbformat_minor": 5
}
